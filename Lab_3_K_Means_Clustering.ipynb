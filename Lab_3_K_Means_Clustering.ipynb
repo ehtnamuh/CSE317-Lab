{
  "nbformat": 4,
  "nbformat_minor": 0,
  "metadata": {
    "colab": {
      "name": "Lab 3: K Means Clustering.ipynb",
      "provenance": [],
      "collapsed_sections": [],
      "authorship_tag": "ABX9TyNEXzLaezfHyn9xTrma+1qR",
      "include_colab_link": true
    },
    "kernelspec": {
      "name": "python3",
      "display_name": "Python 3"
    },
    "language_info": {
      "name": "python"
    }
  },
  "cells": [
    {
      "cell_type": "markdown",
      "metadata": {
        "id": "view-in-github",
        "colab_type": "text"
      },
      "source": [
        "<a href=\"https://colab.research.google.com/github/mirsazzathossain/CSE317-Lab/blob/main/Lab_3_K_Means_Clustering.ipynb\" target=\"_parent\"><img src=\"https://colab.research.google.com/assets/colab-badge.svg\" alt=\"Open In Colab\"/></a>"
      ]
    },
    {
      "cell_type": "markdown",
      "metadata": {
        "id": "JC_tqqOckY4C"
      },
      "source": [
        "#### **1. Import necessary packages:**"
      ]
    },
    {
      "cell_type": "code",
      "metadata": {
        "id": "gQkyWDVyjdYU"
      },
      "source": [
        "import numpy as np\n",
        "import pandas as pd\n"
      ],
      "execution_count": 2,
      "outputs": []
    },
    {
      "cell_type": "markdown",
      "metadata": {
        "id": "3kUoQAB4kqU7"
      },
      "source": [
        "#### **2. Upload and load dataset:**\n",
        "At first we have to upload the dataset to google colab to start working with it. Please download the **\"bookprice.csv\"** dataset from piazza resourse or [click here](https://github.com/mirsazzathossain/CSE317-Lab/blob/12e1c96ad071eda5912c2ba2597e110bb709c680/bookprice.csv) to download it. Then click on files form sidebar, drag and drop your file to side bar to upload the dataset.\n",
        "\n",
        "Now, use `data = pd.read_csv(\"bookprice.csv\")` to load the data."
      ]
    },
    {
      "cell_type": "code",
      "metadata": {
        "id": "xsG8LjSjkxsZ",
        "colab": {
          "base_uri": "https://localhost:8080/"
        },
        "outputId": "21ba9e38-c919-4e3d-dd25-7ed4bf4d944d"
      },
      "source": [
        "data = pd.read_csv(\"bookprice.csv\")\n",
        "data = data.to_numpy()\n",
        "print(data)"
      ],
      "execution_count": 5,
      "outputs": [
        {
          "output_type": "stream",
          "name": "stdout",
          "text": [
            "[[166  54]\n",
            " [195  82]\n",
            " [200  72]\n",
            " [260  72]\n",
            " [265  90]\n",
            " [335 124]\n",
            " [370  94]\n",
            " [450 118]\n",
            " [517 152]\n",
            " [552 132]]\n"
          ]
        }
      ]
    },
    {
      "cell_type": "markdown",
      "metadata": {
        "id": "KLNnfdjelYql"
      },
      "source": [
        "#### **3. Get the size of data.:**\n",
        "Get the size of `data` using `np.shape(data)`. This will return a tuple consists of number of rows and columns of `data`. Save these into two varible named `row` and `col`."
      ]
    },
    {
      "cell_type": "code",
      "metadata": {
        "id": "Aq6-QgAalmiP",
        "colab": {
          "base_uri": "https://localhost:8080/"
        },
        "outputId": "b5fb8c2e-303e-490f-978c-b1cd34681d62"
      },
      "source": [
        "row, col = np.shape(data)\n",
        "print(row, col)"
      ],
      "execution_count": 6,
      "outputs": [
        {
          "output_type": "stream",
          "name": "stdout",
          "text": [
            "10 2\n"
          ]
        }
      ]
    },
    {
      "cell_type": "markdown",
      "metadata": {
        "id": "veP-LGHll7UR"
      },
      "source": [
        "#### **4. Plot 2D data. X-axis show page, Y-Axis shows price**\n",
        "Draw a scatter plot using `plt.scatter()`. Keep page in x-axis and price in y-axis. Show xlabel and ylabel using `plt.xlabel('Page')` and `plt.ylabel('Price')`. Put limit of the axis using `plt.xlim(150, 600)` and `plt.ylim(50, 160)`"
      ]
    },
    {
      "cell_type": "code",
      "metadata": {
        "id": "RAZUYo03l_gS"
      },
      "source": [
        ""
      ],
      "execution_count": null,
      "outputs": []
    },
    {
      "cell_type": "markdown",
      "metadata": {
        "id": "cfhzNQvqJyTu"
      },
      "source": [
        "#### **5. Decide number of groups:**\n",
        "Let's take number of group `k = 3`"
      ]
    },
    {
      "cell_type": "code",
      "metadata": {
        "id": "J1_zDJigJxiE"
      },
      "source": [
        "k=3"
      ],
      "execution_count": 7,
      "outputs": []
    },
    {
      "cell_type": "markdown",
      "metadata": {
        "id": "V6j-lTK9KQlA"
      },
      "source": [
        "#### **6. Take a initial zero matrix called centroids:**\n",
        "For three group we need three initial centroid. Initially we will take the origin (0, 0) as centroid. Use `np.zeros()` to generate the centroid matrix. \n",
        "\n",
        "**Note:** The size of the centroid matrix will be (k, col)"
      ]
    },
    {
      "cell_type": "code",
      "metadata": {
        "id": "H_A3-vL8L81i",
        "colab": {
          "base_uri": "https://localhost:8080/"
        },
        "outputId": "10b525ed-5642-4fc2-ba92-95dbde812de8"
      },
      "source": [
        "centroids = np.zeros((k, col))\n",
        "print(centroids)"
      ],
      "execution_count": 10,
      "outputs": [
        {
          "output_type": "stream",
          "name": "stdout",
          "text": [
            "[[0. 0.]\n",
            " [0. 0.]\n",
            " [0. 0.]]\n"
          ]
        }
      ]
    },
    {
      "cell_type": "markdown",
      "metadata": {
        "id": "VNmMrA87OB5T"
      },
      "source": [
        "#### **7. Generate random indices ranges from 1 to number of rows of data:**\n",
        "Use `np.random.permutation(row)` to generate random indices and store in randidx."
      ]
    },
    {
      "cell_type": "code",
      "metadata": {
        "id": "cX65xl43O7uC",
        "colab": {
          "base_uri": "https://localhost:8080/"
        },
        "outputId": "0e15c77e-172d-46de-d094-ae7fc721fc1f"
      },
      "source": [
        "randidx = np.random.permutation(row)\n",
        "print(randidx)"
      ],
      "execution_count": 11,
      "outputs": [
        {
          "output_type": "stream",
          "name": "stdout",
          "text": [
            "[5 9 7 1 0 8 4 6 3 2]\n"
          ]
        }
      ]
    },
    {
      "cell_type": "markdown",
      "metadata": {
        "id": "Tm7TwqRBQEdW"
      },
      "source": [
        "#### **8. Copy the data from first k (random) indices from data:**\n",
        "Use first k indices from randomly generated indices to get the  specific data from `data` and make these specific data as new centroids."
      ]
    },
    {
      "cell_type": "code",
      "metadata": {
        "id": "6IwCZXh-RG-Y",
        "colab": {
          "base_uri": "https://localhost:8080/"
        },
        "outputId": "be7c5e7f-3c21-4f57-e6b3-5b3a4f10b8f8"
      },
      "source": [
        "for i in range(k):\n",
        "  centroids[i] = data[randidx[i]]\n",
        "\n",
        "print(centroids)"
      ],
      "execution_count": 16,
      "outputs": [
        {
          "output_type": "stream",
          "name": "stdout",
          "text": [
            "[[335. 124.]\n",
            " [552. 132.]\n",
            " [450. 118.]]\n"
          ]
        }
      ]
    },
    {
      "cell_type": "markdown",
      "metadata": {
        "id": "zwTXKAjpSG74"
      },
      "source": [
        "#### **9. Create empty array named group:**\n",
        "Create a empty array named group to keep the group number that corresponds to each datapoint."
      ]
    },
    {
      "cell_type": "code",
      "metadata": {
        "id": "CXUcz15CTVgO",
        "colab": {
          "base_uri": "https://localhost:8080/"
        },
        "outputId": "afbeb7b8-e418-4ca9-9932-ef87fe66b1ae"
      },
      "source": [
        "group = np.zeros(row)-1\n",
        "print(group)"
      ],
      "execution_count": 22,
      "outputs": [
        {
          "output_type": "stream",
          "name": "stdout",
          "text": [
            "[-1. -1. -1. -1. -1. -1. -1. -1. -1. -1.]\n"
          ]
        }
      ]
    },
    {
      "cell_type": "markdown",
      "metadata": {
        "id": "R_Hyr6Z8o3Ma"
      },
      "source": [
        "#### **10. Calculate distance of each point from each centroid and assign the point to a specific centroid which is closest to the point:**\n",
        "\n",
        "1.   Loop over all datapoint one by one.\n",
        "2.   For each datapoint calculate distances of $i^{th}$ point $(data[i,:])$ from centroids[0], then centroids[1], and then centroids[2]\n",
        "3.   Find out which centroid is the closest to the point $data[i,:]$\n",
        "3.   Save the centroid no that is closest to the datapoint in specific index of group. \n",
        "\n",
        "     E.g. If $i^{th}$ datapoint is closer to centroid[0] then `group[i] = 0`\n",
        "4.   Calculate the average of each group that will be new centroid.\n",
        "\n",
        "     *Note: You can use `pd.DataFrame(data).groupby(by=group)` to get k distinct group and then take average using `.mean()`. You will get an dataframe object as result, to get numpy array use `.values`\n"
      ]
    },
    {
      "cell_type": "code",
      "metadata": {
        "id": "7r2PvCSDWaoy"
      },
      "source": [
        "# Write appropriate code"
      ],
      "execution_count": null,
      "outputs": []
    },
    {
      "cell_type": "markdown",
      "metadata": {
        "id": "AGXCsEihtJKK"
      },
      "source": [
        "#### **11. Plot the centroids with different marker. Say ‘d’ for diamond:**\n",
        "Use different marker by simply passing an extra parameter to `plt.scatter()` function. E.g. `plt.scatter(--, --, marker='d')`"
      ]
    },
    {
      "cell_type": "code",
      "metadata": {
        "id": "RxQd6xTUnTpx"
      },
      "source": [
        "# Write appropriate code"
      ],
      "execution_count": null,
      "outputs": []
    }
  ]
}
