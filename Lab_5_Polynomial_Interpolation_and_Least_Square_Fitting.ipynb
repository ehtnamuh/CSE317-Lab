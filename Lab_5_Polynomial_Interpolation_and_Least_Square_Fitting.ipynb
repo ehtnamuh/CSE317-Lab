{
  "nbformat": 4,
  "nbformat_minor": 0,
  "metadata": {
    "colab": {
      "name": "Lab 5: Polynomial Interpolation and Least-Square Fitting.ipynb",
      "provenance": [],
      "collapsed_sections": [],
      "authorship_tag": "ABX9TyPaw3LA/8IBGcPDYoqYmo3R",
      "include_colab_link": true
    },
    "kernelspec": {
      "name": "python3",
      "display_name": "Python 3"
    },
    "language_info": {
      "name": "python"
    }
  },
  "cells": [
    {
      "cell_type": "markdown",
      "metadata": {
        "id": "view-in-github",
        "colab_type": "text"
      },
      "source": [
        "<a href=\"https://colab.research.google.com/github/mirsazzathossain/CSE317-Lab/blob/main/Lab_5_Polynomial_Interpolation_and_Least_Square_Fitting.ipynb\" target=\"_parent\"><img src=\"https://colab.research.google.com/assets/colab-badge.svg\" alt=\"Open In Colab\"/></a>"
      ]
    },
    {
      "cell_type": "markdown",
      "metadata": {
        "id": "x6y3Y_sXIvrI"
      },
      "source": [
        "In this assignment, we will examine polynomial interpolation and least square fitting of polynomials to a set of points.\n",
        "\n",
        "Input: Suppose we have n points: $(t_1, y_1), (t_2, y_2), \\ldots , (t_n, y_n)$."
      ]
    },
    {
      "cell_type": "markdown",
      "metadata": {
        "id": "WfC8i8aEK6z-"
      },
      "source": [
        "#### **Import necessary packages:**"
      ]
    },
    {
      "cell_type": "code",
      "metadata": {
        "id": "Ojnxg81EF32Q"
      },
      "source": [
        "# Write appropriate code"
      ],
      "execution_count": null,
      "outputs": []
    },
    {
      "cell_type": "markdown",
      "metadata": {
        "id": "R8Kmg1EZLK6H"
      },
      "source": [
        "#### **A. Polynomial Interpolation:**\n",
        "First, we would like to fit a polynomial of degree n-1 to the set of points, i.e. we will fit a polynomial:\n",
        "\n",
        "$$p(t) = c_0 + c_1t + \\cdots + c_{n−1}t^{n−1}$$\n",
        "\n",
        "So that it goes through all the n points. Our task is to find the coefficient $c_0, c_1, \\ldots , c_{n-1}$.\n",
        "\n",
        "In this assignment $n=7$, we will fit a $6$-degree polynomial. The $7$ points are as follows:\n",
        "\n",
        "$$(1, 4), (3, 7), (4, 2), (7, 2), (10, 5), (12, 10), (15, 4)$$"
      ]
    },
    {
      "cell_type": "markdown",
      "metadata": {
        "id": "ACTInRcTM8xn"
      },
      "source": [
        "##### **Step 1: Set up the system of linear equations**\n",
        "We can set up the system of equations $Ac=y$ to represent the n given conditions $p(t_i)=y_i$ that the polynomial must satisfy. Here, $c$ is the vector of coefficients and $y$ is the vectors of the $y_i$’s.  The matrix $A$ is called the Vandermonde matrix which represents the coefficients of the $n$ linear equations (linear in terms of the $c_i$’s).\n",
        "\n",
        "☢ Long story huh..? 🤯 Let's go step by step. 🔽\n",
        "\n",
        "⚡ From the given data point create two numpy array $t$ and $y$\n",
        "\n",
        "⚡ Using $t$ create the vendermonde matrix. (How 🤔? You have go through your lecture first.)\n",
        "\n",
        "**Hint: You can use `np.vander()` to create $A$. Saw the `numpy` documentation for more details.\n",
        " \n",
        "That's all you have to do for this step. 👻\n"
      ]
    },
    {
      "cell_type": "code",
      "metadata": {
        "id": "1HMxL3HkM8QJ"
      },
      "source": [
        "# Write appropriate code"
      ],
      "execution_count": null,
      "outputs": []
    },
    {
      "cell_type": "markdown",
      "metadata": {
        "id": "GiWu4DMUW68F"
      },
      "source": [
        "##### **Step 2: Find the coefficient vector $c$**\n",
        "Since the Vandermonde matrix is invertible if $t_i ≠ t_j$, for $i ≠ j$ (see slide on inverses), we can simply find $c$ using `c = np.linalg.inv(A).dot(y)`. Of course, you can use the QR-decomposition of $A$ to find the inverse if you want.😜"
      ]
    },
    {
      "cell_type": "code",
      "metadata": {
        "id": "8vFh403niA6b"
      },
      "source": [
        "# Write appropriate code"
      ],
      "execution_count": null,
      "outputs": []
    },
    {
      "cell_type": "markdown",
      "metadata": {
        "id": "FBBV-BMolADh"
      },
      "source": [
        "##### **Step 3: Plot the points and the polynomial**\n",
        "⚡ Plot the given n points\n",
        "\n",
        "⚡ Calculate the value of $p$ for new $t$ using coefficient vector $c$\n",
        "\n",
        "⚡ Plot the polynomial"
      ]
    },
    {
      "cell_type": "code",
      "metadata": {
        "id": "kwiBDsWHZcf7"
      },
      "source": [
        "# Write appropriate code"
      ],
      "execution_count": null,
      "outputs": []
    },
    {
      "cell_type": "markdown",
      "metadata": {
        "id": "l-bN9edTmhnk"
      },
      "source": [
        "#### **B. Polynomial interpolation using two cubic polynomials:**\n",
        "In this part, you we will fit the following two cubic polynomials $p(t)$ and $q(t)$ to the n points:\n",
        "\n",
        "$$p(t) = c_0 + c_1 t + c_2 t^2 + c_3 t^3, q(t) = d_0 + d_1t + d_2 t^2 + d_3 t^3$$\n",
        "\n",
        "that satisfies the following conditions:\n",
        "\n",
        "$$p(1) = 4$$ \n",
        "$$p(3) = 7$$ \n",
        "$$p(4) =2$$\n",
        "$$q(10) = 5$$ \n",
        "$$q(12) = 10$$ \n",
        "$$q(15) = 4$$\n",
        "$$p(7) = q(7)$$ \n",
        "$$ p’(7) = q’(7)$$\n",
        "\n",
        "**Note: $p’(7)$ and $q'(7)$ are the derivatives of $p(t)$ and $q(t)$ at $t = 7$ respectively"
      ]
    },
    {
      "cell_type": "markdown",
      "metadata": {
        "id": "-aKzQaA4oNko"
      },
      "source": [
        "##### **Step 1: Set up the system of linear equations**\n",
        "We can set up the system of equations $Ax=b$ to represent the given conditions that the polynomials must satisfy. Here, $x$ is the vector of coefficients:   \n",
        "\n",
        "$$x=[c_0, c_1, c_2, c_3, d_0, d_1, d_2, d_3]$$\n",
        "\n",
        "The matrix $A$ is called the Vandermonde matrix.\n",
        "\n",
        "💥 Stucked again? Need hints?😲 Here you go: 🔽\n",
        "\n",
        "⚡ From given conditions create three numpy array $p_t, q_t$ and $b$\n",
        "\n",
        "⚡ Using $p_t, q_t$ and the conditions make the Vendermonde matrix $A$ (This is the tricky part. 👊)\n",
        "\n",
        "**Hint: You can use `np.column_stack((..,..))` and `np.row_stack((..,..))` to creat matrix $A$. Saw the `numpy` documentation for more details."
      ]
    },
    {
      "cell_type": "code",
      "metadata": {
        "id": "HiIRWwNdsqPJ"
      },
      "source": [
        "# Write appropriate code"
      ],
      "execution_count": null,
      "outputs": []
    },
    {
      "cell_type": "markdown",
      "metadata": {
        "id": "1YaDg4VNz-4S"
      },
      "source": [
        "##### **Step 2: Find the coefficient vector $x$**\n",
        "You have to find the coefficient vector $x$. This time find your way around, no hints from this side.🚸"
      ]
    },
    {
      "cell_type": "code",
      "metadata": {
        "id": "31XyiFCGv2BW"
      },
      "source": [
        "# Write appropriate code"
      ],
      "execution_count": null,
      "outputs": []
    },
    {
      "cell_type": "markdown",
      "metadata": {
        "id": "sQiek0aC2j0o"
      },
      "source": [
        "##### **Step 3: Plot the points and the polynomials**\n",
        "⚡ Plot the given points given in condition\n",
        "\n",
        "⚡ Plot the polynomials"
      ]
    },
    {
      "cell_type": "code",
      "metadata": {
        "id": "RwDTzuzi2x6l"
      },
      "source": [
        "# Write appropriate code"
      ],
      "execution_count": null,
      "outputs": []
    },
    {
      "cell_type": "markdown",
      "metadata": {
        "id": "LMi0Vfbb7UFl"
      },
      "source": [
        "#### **C. Least-square polynomial fitting:**\n",
        "Now we will fit a quadratic polynomial $p(t) = c_0 + c_1 t + c_2 t^2$ , to the $n = 7$ points. Of course, we do not require here that all the conditions will be satisfied. We wish to find a polynomial that minimized the sum of squared errors at each $t_i$."
      ]
    },
    {
      "cell_type": "markdown",
      "metadata": {
        "id": "ndg-B4T97uKe"
      },
      "source": [
        "##### **Step 1: Set up the system of linear equations**\n",
        "Set up a system of equations $Ac = y$ that corresponds to the points. $Ac = y$, is unlikely to have a solution and so we aim to find $c$, that minimizes $∥ Ac − y ∥^2$."
      ]
    },
    {
      "cell_type": "code",
      "metadata": {
        "id": "UpKzGv1Q8dxl"
      },
      "source": [
        "# Write appropriate code"
      ],
      "execution_count": null,
      "outputs": []
    },
    {
      "cell_type": "markdown",
      "metadata": {
        "id": "qdqcd-Kx9l7u"
      },
      "source": [
        "##### **Step 2: Find the coefficient vector $c$**\n",
        "We find $c$ using $c = A^† y = (A^T A)^{−1} A^T y = R^{−1} Q^T y$, where $A = QR $ is the QR-decomposition of the matrix $A$. Numpy function `np.linalg.pinv(A)` gives you the pseudo-inverse $A^†$"
      ]
    },
    {
      "cell_type": "code",
      "metadata": {
        "id": "Wg6ZFu9j-UTn"
      },
      "source": [
        "# Write appropriate code"
      ],
      "execution_count": null,
      "outputs": []
    },
    {
      "cell_type": "markdown",
      "metadata": {
        "id": "HdOsv1c7-rK9"
      },
      "source": [
        "##### **Step 3: Plot the points and the polynomial**\n",
        "⚡ Plot the given points given in condition\n",
        "\n",
        "⚡ Plot the polynomial"
      ]
    },
    {
      "cell_type": "code",
      "metadata": {
        "id": "8hmQBK4b-zd8"
      },
      "source": [
        "# Write appropriate code"
      ],
      "execution_count": null,
      "outputs": []
    }
  ]
}
