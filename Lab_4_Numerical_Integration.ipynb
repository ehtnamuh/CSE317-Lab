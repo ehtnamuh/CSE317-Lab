{
 "cells": [
  {
   "cell_type": "markdown",
   "metadata": {},
   "source": [
    "In this lab, we be implementing the trapezoidal rule and Simpson's rule for numerical integration."
   ]
  },
  {
   "cell_type": "markdown",
   "metadata": {},
   "source": [
    "#### **Import necessary packages**"
   ]
  },
  {
   "cell_type": "code",
   "execution_count": null,
   "metadata": {},
   "outputs": [],
   "source": [
    "# Write appropriate code"
   ]
  },
  {
   "cell_type": "markdown",
   "metadata": {},
   "source": [
    "#### **A. Trapezoidal Rule**\n",
    "\n",
    "The trapezoidal rule is a numerical method for approximating the definite integral of a function $f(x)$ over the interval $[a,b]$. \n",
    "\n",
    "$$I = \\int_a^b f(x) dx$$\n",
    "\n",
    "Using the first order Taylor series expansion of $f(x)$ we can approximate the integral as:\n",
    "\n",
    "$$\n",
    "\\begin{align*}\n",
    "I &\\approx \\int_a^b f_1(x) dx \\\\\n",
    "&\\approx \\int_a^b \\left[ f(a) + \\frac{f(a)-f(b)}{b-a} (x-a) \\right] dx \\\\\n",
    "&\\approx (b-a) \\left[ \\frac{f(a)+f(b)}{2} \\right]\n",
    "\\end{align*}\n",
    "$$\n",
    "\n",
    "where $f_1(x) = f(a) + \\frac{f(a)-f(b)}{b-a} (x-a)$ is the first order Taylor series expansion of $f(x)$ at $x=a$.\n",
    "\n",
    "The trapezoidal rule is equivalent to approximating the area under the straight line connecting the points $(a,f(a))$ and $(b,f(b))$.\n",
    "\n",
    "<center>\n",
    "    <img src=\"./images/trapezoidal-single.png\" width=\"600\" />\n",
    "</center>\n",
    "\n",
    "We will now implement the trapezoidal rule to approximate the integral of $f(x) = -\\frac{1}{5}(x-4)^2 + 8$ over the interval $[-1, 8]$ by following the steps below:"
   ]
  },
  {
   "cell_type": "markdown",
   "metadata": {},
   "source": [
    "##### **Step 1: Define the function**\n",
    "Write a function that takes x as an input and returns the value of $f(x)$. Note that the function should be able to handle both scalar and vector inputs."
   ]
  },
  {
   "cell_type": "code",
   "execution_count": null,
   "metadata": {},
   "outputs": [],
   "source": [
    "# Write appropriate code"
   ]
  },
  {
   "cell_type": "markdown",
   "metadata": {},
   "source": [
    "##### **Step 2: Define the interval**\n",
    "Define the interval as a list of two elements, where the first element is the lower bound and the second element is the upper bound. Name the list `interval`."
   ]
  },
  {
   "cell_type": "code",
   "execution_count": null,
   "metadata": {},
   "outputs": [],
   "source": [
    "# Write appropriate code"
   ]
  },
  {
   "cell_type": "markdown",
   "metadata": {},
   "source": [
    "##### **Step 3: Plot the graph of the function**\n",
    "In order to visualize the function, and the area under the straight line connecting the points $(a,f(a))$ and $(b,f(b))$, we will plot the following:\n",
    "\n",
    "* The function $f(x)$ over the interval $[-5, 12]$.\n",
    "* The straight line connecting the points $(a,f(a))$ and $(b,f(b))$\n",
    "* The filled area under the straight line connecting the points $(a,f(a))$ and $(b,f(b))$.\n",
    "\n",
    "To plot the filled area under the straight line connecting the points $(a,f(a))$ and $(b,f(b))$, we will use the `fill_between` function from the `matplotlib.pyplot` package. See the documentation [here](https://matplotlib.org/3.1.1/api/_as_gen/matplotlib.pyplot.fill_between.html) for more information.\n",
    "\n"
   ]
  },
  {
   "cell_type": "code",
   "execution_count": null,
   "metadata": {},
   "outputs": [],
   "source": [
    "# Write appropriate code"
   ]
  },
  {
   "cell_type": "markdown",
   "metadata": {},
   "source": [
    "##### **Step 4: Define a function to compute the trapezoidal rule**\n",
    "Write a function named `trapezoidal` that takes the interval as parameters and returns the approximate value of the integral. You have to call the function `f` that you defined in Step 1 to compute the value of $f(a)$ and $f(b)$ and then use the trapezoidal rule to compute the approximate value of the integral. Finally, return the approximate value of the integral."
   ]
  },
  {
   "cell_type": "code",
   "execution_count": null,
   "metadata": {},
   "outputs": [],
   "source": [
    "# Write appropriate code"
   ]
  }
 ],
 "metadata": {
  "kernelspec": {
   "display_name": "Python 3.10.7 64-bit",
   "language": "python",
   "name": "python3"
  },
  "language_info": {
   "name": "python",
   "version": "3.10.7"
  },
  "orig_nbformat": 4,
  "vscode": {
   "interpreter": {
    "hash": "e7370f93d1d0cde622a1f8e1c04877d8463912d04d973331ad4851f04de6915a"
   }
  }
 },
 "nbformat": 4,
 "nbformat_minor": 2
}
