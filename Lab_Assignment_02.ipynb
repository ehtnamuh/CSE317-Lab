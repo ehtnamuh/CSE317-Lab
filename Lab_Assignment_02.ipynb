{
 "cells": [
  {
   "cell_type": "markdown",
   "metadata": {},
   "source": [
    "#### **Find local maxima point of a function:**\n",
    "In this exercise, you will implement the Newton-Raphson method to find the local maxima point of the following function:\n",
    "\n",
    "$$f(x) = 2\\sin(x) + \\frac{x^2}{10}$$\n",
    "\n",
    "Local maxima of a function usually occur at the roots of the first derivative of the function. We can find the local maxima point of a function by finding the roots of the first derivative of the function. So, we have to find the roots of the following function to get the local maxima point of $f(x)$:\n",
    "$$\n",
    "\\begin{align*}\n",
    "f'(x) &= \\frac{d}{dx} \\left( 2\\sin(x) + \\frac{x^2}{10} \\right) \\\\\n",
    "&= 2\\cos(x) + \\frac{2x}{10} \\\\\n",
    "&= 2\\cos(x) + \\frac{x}{5}\n",
    "\\end{align*}\n",
    "$$\n",
    "\n",
    "Use the Newton-Raphson method to find the roots of $f'(x)$. Take the initial guess $x_0 = 1$ and the tolerance $\\epsilon = 0.001$. The root of $f'(x)$ is the local maxima point of $f(x)$. Print the local maxima at that point. The output should look like the example below:\n",
    "\n",
    "<img src=\"images/Exercise-NR.PNG\" />\n",
    "\n",
    "In addition, plot the function, its dervative and the local maxima point in the same plot along with the iteration vs x-estimate plot in another subplot. The plot should look like the example below:\n",
    "\n",
    "<img src=\"images/Exercise-Plot.png\" width=\"1000\"/>"
   ]
  },
  {
   "cell_type": "code",
   "execution_count": 1,
   "metadata": {},
   "outputs": [],
   "source": [
    "# Write appropriate code"
   ]
  }
 ],
 "metadata": {
  "kernelspec": {
   "display_name": "Python 3",
   "language": "python",
   "name": "python3"
  },
  "language_info": {
   "codemirror_mode": {
    "name": "ipython",
    "version": 3
   },
   "file_extension": ".py",
   "mimetype": "text/x-python",
   "name": "python",
   "nbconvert_exporter": "python",
   "pygments_lexer": "ipython3",
   "version": "3.10.6 (tags/v3.10.6:9c7b4bd, Aug  1 2022, 21:53:49) [MSC v.1932 64 bit (AMD64)]"
  },
  "orig_nbformat": 4,
  "vscode": {
   "interpreter": {
    "hash": "b148fc9bfa8b60132af830e32e1690e4e023b803e92912df15b823b90141dda6"
   }
  }
 },
 "nbformat": 4,
 "nbformat_minor": 2
}
