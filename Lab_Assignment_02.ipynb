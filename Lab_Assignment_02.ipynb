{
 "cells": [
  {
   "cell_type": "markdown",
   "metadata": {},
   "source": [
    "#### **Find global minima point of a function:**\n",
    "In this exercise, you will implement the Newton-Raphson method to find the global minima point of the following function:\n",
    "\n",
    "$$f(x) = e^{x+4} + x^\\frac{2}{3} + 8\\sin(x)$$\n",
    "\n",
    "Local maxima / minima of a function occurs at the roots of the first derivative of the function. We can find the local minima point of a function by finding the roots of the first derivative of the function. So, we have to find the roots of the following function to get the local minima point of $f(x)$:\n",
    "$$\n",
    "\\begin{align*}\n",
    "f'(x) &= \\frac{d}{dx} \\left( e^{x+4} + x^\\frac{2}{3} + 8\\sin(x) \\right) \\\\ \\\\\n",
    "&= e^{x+4} + \\frac{2}{3}x^{-\\frac{1}{3}} + 8\\cos(x) \\\\\n",
    "\\end{align*}\n",
    "$$\n",
    "\n",
    "Follow the steps below to find the local minima point of $f(x)$:\n",
    "\n",
    "* Plot the graph for function $f{(x)}$\n",
    "\n",
    "* Use the graph to determine the range of $x$ where the global minimum point for function $f(x)$ can be found.\n",
    "\n",
    "* Choose 5 initial values of $x$ from the range where the global minimum point for function $f(x)$ can be found. For each initial value of $x$, use the Newton-Raphson method to find the global minimum point of $f(x)$. Use error tolerance, $\\epsilon = 0.001$ and maximum number of iterations, $N = 100$. Consider the following steps to implement the Newton-Raphson method:\n",
    "\n",
    "    * **Step 1:** Calculate the value of $f'(x)$ and $f''(x)$ for the given value of $x$.\n",
    "    * **Step 2:** Calculate the value of $x_{new} = x_{old} - \\frac{f'(x_{old})}{f''(x_{old})}$.\n",
    "    * **Step 3:** Check if the absolute relative approximate error, $\\epsilon_{abs} = \\left| \\frac{x_{new} - x_{old}}{x_{new}} \\right|$ is less than the error tolerance, $\\epsilon$. If yes, then stop the iteration and return the value of $x_{new}$. If no, then set $x_{old} = x_{new}$ and repeat the steps 1 and 2.\n",
    "    * **Step 4:** If the number of iterations exceeds the maximum number of iterations, $N$, then stop the iteration and return the value of $x_{new}$. If no, then repeat the steps 1 to 3.\n",
    "\n",
    "* For each stationary(minimum/maximum) point found in previous step, check if the point is a local minimum point by checking the value of $f''(x)$ at that point. If the value of $f''(x)$ is positive, then the point is a local minimum point.\n",
    "\n",
    "* Now, as you have found the local minima point of $f(x)$, find the global minima point of $f(x)$ by finding the local minima point with the smallest value of $f(x)$.\n",
    "\n",
    "* Find the value of the function $f(x)$ at the global minimum point found in previous step. The value should be close to $-4$. If the value is not close to $-4$, then repeat all the steps with different initial values of $x$.\n",
    "\n",
    "* Finally, plot the graph for function $f(x)$, its first derivative $f'(x)$ along with the local and global minima points found in previous steps. Mark the global minima point with a red circle and the local minima points with a blue circle."
   ]
  },
  {
   "cell_type": "code",
   "execution_count": 1,
   "metadata": {},
   "outputs": [],
   "source": [
    "# Write appropriate code"
   ]
  }
 ],
 "metadata": {
  "kernelspec": {
   "display_name": "Python 3.10.7 64-bit",
   "language": "python",
   "name": "python3"
  },
  "language_info": {
   "codemirror_mode": {
    "name": "ipython",
    "version": 3
   },
   "file_extension": ".py",
   "mimetype": "text/x-python",
   "name": "python",
   "nbconvert_exporter": "python",
   "pygments_lexer": "ipython3",
   "version": "3.10.7"
  },
  "orig_nbformat": 4,
  "vscode": {
   "interpreter": {
    "hash": "e7370f93d1d0cde622a1f8e1c04877d8463912d04d973331ad4851f04de6915a"
   }
  }
 },
 "nbformat": 4,
 "nbformat_minor": 2
}
