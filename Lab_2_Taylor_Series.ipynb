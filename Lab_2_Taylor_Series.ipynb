{
 "cells": [
  {
   "cell_type": "markdown",
   "metadata": {},
   "source": [
    "In this lab, we will explore the Taylor series expansion of a function.  We will use the Taylor series expansion to approximate the value of a function at a point. Also, we will visualize how the order of the Taylor series expansion affects the accuracy of the approximation.\n",
    "\n",
    "#### **Taylor Series Expansion of a Function**\n",
    "The Taylor series expansion of is a representation of the function by an infinite series of polynomials centered at the point.  The Taylor series expansion of a function $f(x)$ is given by\n",
    "\n",
    "$$f(x) = \\sum_{n=0}^{\\infty} \\frac{f^{(n)}(a)}{n!}(x-a)^n$$\n",
    "\n",
    "where $f^{(n)}(a)$ is the $n$ th derivative of $f(x)$ evaluated at $a$.\n",
    "\n",
    "##### **Example**\n",
    "Consider the function $f(x) = e^x$ and the point $a = 0$.  The Taylor series expansion of $f(x)$ centered at $a$ is given by\n",
    "\n",
    "$$\n",
    "\\begin{align*}\n",
    "    f(x) &= \\frac{f^{(0)}(a)(x-a)^0}{0!} + \\frac{f^{(1)}(a)(x-a)^1}{1!} + \\frac{f^{(2)}(a)(x-a)^2}{2!} + \\frac{f^{(3)}(a)(x-a)^3}{3!} + \\cdots \\\\\n",
    "\n",
    "    &= \\frac{f^{(0)}(0)(x-0)^0}{0!} + \\frac{f^{(1)}(0)(x-0)^1}{1!} + \\frac{f^{(2)}(0)(x-0)^2}{2!} + \\frac{f^{(3)}(0)(x-0)^3}{3!} + \\cdots \\\\\n",
    "    &= \\frac{1}{0!} + \\frac{x}{1!} + \\frac{x^2}{2!} + \\frac{x^3}{3!} + \\cdots \\\\\n",
    "    &= 1 + x + \\frac{x^2}{2} + \\frac{x^3}{6} + \\cdots\n",
    "\n",
    "\\end{align*}\n",
    "$$\n",
    "\n",
    "The final expression is an infinite series of polynomials.  The first term is the constant term, the second term is the linear term, the third term is the quadratic term, the fourth term is the cubic term, and so on.  The more terms we include in the series, the more accurate the approximation of the function becomes. We will explore this in the next section."
   ]
  },
  {
   "cell_type": "markdown",
   "metadata": {},
   "source": [
    "#### **Approximation using Taylor Series**\n",
    "We can approximate the value of a function at a point by using the Taylor series expansion of the function. We have already seen an example of how to expand a function using the Taylor series expansion.  In this section, we will use the Taylor series expansion to approximate the value of a function at a point. \n",
    "\n",
    "But, the Taylor series expansion is an infinite series and we oviously cannot compute the value of an infinite series. So, we will use the first few terms of the Taylor series expansion to approximate the value of the function at a point. The number of terms we use in the Taylor series expansion is related to the order of the Taylor series expansion.  The order of the Taylor series expansion is one less than the number of terms in the Taylor series expansion.  For example, if we use the first three terms of the Taylor series expansion, the order of the Taylor series expansion is 2.  If we use the first four terms of the Taylor series expansion, the order of the Taylor series expansion is 3.  And so on.\n",
    "\n",
    "Now, we will try to approximate the function $f(x) = e^{-x}$ at the point $a = 0$ and observe the effect of the order of the Taylor series expansion on the accuracy of the approximation. Follow the steps below to complete the task."
   ]
  },
  {
   "cell_type": "markdown",
   "metadata": {},
   "source": [
    "##### **Step 01: Import the required libraries**\n",
    "We will be using the numpy to deal with arrays and the matplotlib to plot the function and its approximation. Import these two libraries in the cell below."
   ]
  },
  {
   "cell_type": "code",
   "execution_count": 1,
   "metadata": {},
   "outputs": [],
   "source": [
    "# Write appropiate code here"
   ]
  },
  {
   "cell_type": "markdown",
   "metadata": {},
   "source": [
    "##### **Step 02: Define the function and its derivative**\n",
    "Write a function that takes $x$ as an argument and returns the value of $f(x)$.  Also, write the following functions that return the value of the first, second, third, and fourth derivatives of $f(x)$.\n",
    "\n",
    ">1. `f1(x)`: returns the value of the first derivative of $f(x)$\n",
    ">2. `f2(x)`: returns the value of the second derivative of $f(x)$\n",
    ">3. `f3(x)`: returns the value of the third derivative of $f(x)$\n",
    ">4. `f4(x)`: returns the value of the fourth derivative of $f(x)$"
   ]
  },
  {
   "cell_type": "code",
   "execution_count": 2,
   "metadata": {},
   "outputs": [],
   "source": [
    "# Write appropiate code here"
   ]
  },
  {
   "cell_type": "markdown",
   "metadata": {},
   "source": [
    "##### **Step 03: Generalize the derivative functions**\n",
    "The functions `f1(x)`, `f2(x)`, `f3(x)`, and `f4(x)` that you wrote in the previous step are specific to the function $f(x) = e^{-x}$.  Now, write a generalized function that takes the order of the derivative as an argument and returns the value of the derivative of $f(x)$.\n",
    "\n",
    "> `fn(x, n)`: returns the value of the $n$ th derivative of $f(x)$"
   ]
  },
  {
   "cell_type": "code",
   "execution_count": 3,
   "metadata": {},
   "outputs": [],
   "source": [
    "# Write appropiate code here"
   ]
  },
  {
   "cell_type": "markdown",
   "metadata": {},
   "source": [
    "##### **Step 04: Define the Taylor series expansion function**\n",
    "Write a function that takes $x$, $a$, and $n$ as arguments and returns the value of the Taylor series expansion of $f(x)$ at $a$ with order $n$.\n",
    "\n",
    "> `taylor(x, a, n)`: returns the value of the Taylor series expansion of $f(x)$ at $a$ using the first $n$ terms of the Taylor series expansion"
   ]
  },
  {
   "cell_type": "code",
   "execution_count": 13,
   "metadata": {},
   "outputs": [],
   "source": [
    "# Write appropiate code here"
   ]
  },
  {
   "cell_type": "markdown",
   "metadata": {},
   "source": [
    "##### **Step 05: Approximate the value of the function at a point**\n",
    "Using the function `taylor(x, a, n)`, approximate the value of $f(x)$ at $x = 1$ using the first $5$ terms of the Taylor series expansion.  Also, compute the value of $f(x)$ at $x = 1$ using the function `f(x)` that you wrote in the previous step.  Find the absolute difference between the two values to determine the accuracy of the approximation."
   ]
  },
  {
   "cell_type": "code",
   "execution_count": null,
   "metadata": {},
   "outputs": [],
   "source": [
    "# Write appropiate code here"
   ]
  },
  {
   "cell_type": "markdown",
   "metadata": {},
   "source": [
    "##### **Step 06: Show the visual difference between the approximation and the actual function**\n",
    "Now, we will see how good the approximation is by plotting the function and the Taylor series expansion of the function at different orders.  Follow the steps below to complete the task.\n",
    "\n",
    ">1. Define a list of values of `x` from $-2$ to $2$ with a step size of $0.1$.\n",
    ">2. Define a list of values of `y` by evaluating the function $f(x)$ at each value of $x$.\n",
    ">3. Define a list of values of `y_app` by evaluating the Taylor series expansion of $f(x)$ at each value of $x$ using the first $n$ terms of the Taylor series expansion starting from $n=1$ to $n=4$.\n",
    ">4. Plot the function $f(x)$ and the Taylor series expansion of $f(x)$ at different orders.  Use the following colors for the plots.\n",
    ">    * $n = 1$: red\n",
    ">    * $n = 2$: green\n",
    ">    * $n = 3$: blue\n",
    ">    * $n = 4$: black\n",
    ">5. Add a legend to the plot.\n",
    ">6. Add labels to the $x$ and $y$ axes.\n",
    ">7. Add a title to the plot.\n",
    "\n",
    "See the effect of the order of the Taylor series expansion on the accuracy of the approximation.  The more terms we include in the Taylor series expansion, the more accurate the approximation becomes.  But, the more terms we include in the Taylor series expansion, the more complex the Taylor series expansion becomes.  So, we need to find a balance between the accuracy of the approximation and the complexity of the Taylor series expansion."
   ]
  },
  {
   "cell_type": "code",
   "execution_count": null,
   "metadata": {},
   "outputs": [],
   "source": [
    "# Write appropiate code here"
   ]
  }
 ],
 "metadata": {
  "kernelspec": {
   "display_name": "Python 3.10.6 64-bit",
   "language": "python",
   "name": "python3"
  },
  "language_info": {
   "codemirror_mode": {
    "name": "ipython",
    "version": 3
   },
   "file_extension": ".py",
   "mimetype": "text/x-python",
   "name": "python",
   "nbconvert_exporter": "python",
   "pygments_lexer": "ipython3",
   "version": "3.10.7"
  },
  "orig_nbformat": 4,
  "vscode": {
   "interpreter": {
    "hash": "e7370f93d1d0cde622a1f8e1c04877d8463912d04d973331ad4851f04de6915a"
   }
  }
 },
 "nbformat": 4,
 "nbformat_minor": 2
}
