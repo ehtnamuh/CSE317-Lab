{
  "nbformat": 4,
  "nbformat_minor": 0,
  "metadata": {
    "colab": {
      "name": "Lab 4: More on K Means Clustering.ipynb",
      "provenance": [],
      "collapsed_sections": [],
      "authorship_tag": "ABX9TyN5fBjMWR6+sSaTJv8Wgn3C",
      "include_colab_link": true
    },
    "kernelspec": {
      "name": "python3",
      "display_name": "Python 3"
    },
    "language_info": {
      "name": "python"
    }
  },
  "cells": [
    {
      "cell_type": "markdown",
      "metadata": {
        "id": "view-in-github",
        "colab_type": "text"
      },
      "source": [
        "<a href=\"https://colab.research.google.com/github/mirsazzathossain/CSE317-Lab/blob/main/Lab_4_More_on_K_Means_Clustering.ipynb\" target=\"_parent\"><img src=\"https://colab.research.google.com/assets/colab-badge.svg\" alt=\"Open In Colab\"/></a>"
      ]
    },
    {
      "cell_type": "markdown",
      "metadata": {
        "id": "JC_tqqOckY4C"
      },
      "source": [
        "#### **1. Import necessary packages:**"
      ]
    },
    {
      "cell_type": "code",
      "metadata": {
        "id": "gQkyWDVyjdYU"
      },
      "source": [
        "# Write appropriate code"
      ],
      "execution_count": null,
      "outputs": []
    },
    {
      "cell_type": "markdown",
      "metadata": {
        "id": "3kUoQAB4kqU7"
      },
      "source": [
        "#### **2. Upload and load dataset:**\n",
        "At first we have to upload the dataset to google colab to start working with it. Please download the **\"bookprice.csv\"** dataset from piazza resourse or [click here](https://piazza.com/class_profile/get_resource/ku1fdd7zhev3r2/ku7c2kiquo514q) to download it. Then click on files form sidebar, drag and drop your file to side bar to upload the dataset.\n",
        "\n",
        "Now, use `data = pd.read_csv(\"bookprice.csv\")` to load the data."
      ]
    },
    {
      "cell_type": "code",
      "metadata": {
        "id": "xsG8LjSjkxsZ"
      },
      "source": [
        "# Write appropriate code"
      ],
      "execution_count": null,
      "outputs": []
    },
    {
      "cell_type": "markdown",
      "metadata": {
        "id": "KLNnfdjelYql"
      },
      "source": [
        "#### **3. Get the size of data.:**\n",
        "Get the size of `data` using `np.shape(data)`. This will return a tuple consists of number of rows and columns of `data`. Save these into two varible named `row` and `col`."
      ]
    },
    {
      "cell_type": "code",
      "metadata": {
        "id": "Aq6-QgAalmiP"
      },
      "source": [
        "# Write appropriate code"
      ],
      "execution_count": null,
      "outputs": []
    },
    {
      "cell_type": "markdown",
      "metadata": {
        "id": "veP-LGHll7UR"
      },
      "source": [
        "#### **4. Plot 2D data. X-axis show page, Y-Axis shows price**\n",
        "Draw a scatter plot using `plt.scatter()`. Keep page in x-axis and price in y-axis. Show xlabel and ylabel using `plt.xlabel('Page')` and `plt.ylabel('Price')`. Put limit of the axis using `plt.xlim(150, 600)` and `plt.ylim(50, 160)`"
      ]
    },
    {
      "cell_type": "code",
      "metadata": {
        "id": "RAZUYo03l_gS"
      },
      "source": [
        "# Write appropriate code"
      ],
      "execution_count": null,
      "outputs": []
    },
    {
      "cell_type": "markdown",
      "metadata": {
        "id": "cfhzNQvqJyTu"
      },
      "source": [
        "#### **5. Decide number of groups:**\n",
        "Let's take number of group `k = 3`"
      ]
    },
    {
      "cell_type": "code",
      "metadata": {
        "id": "J1_zDJigJxiE"
      },
      "source": [
        "# Write appropriate code"
      ],
      "execution_count": null,
      "outputs": []
    },
    {
      "cell_type": "markdown",
      "metadata": {
        "id": "V6j-lTK9KQlA"
      },
      "source": [
        "#### **6. Take a initial zero matrix called centroids:**\n",
        "For three group we need three initial centroid. Initially we will take the origin (0, 0) as centroid. Use `np.zeros()` to generate the centroid matrix. \n",
        "\n",
        "**Note:** The size of the centroid matrix will be (k, col)"
      ]
    },
    {
      "cell_type": "code",
      "metadata": {
        "id": "H_A3-vL8L81i"
      },
      "source": [
        "# Write appropriate code"
      ],
      "execution_count": null,
      "outputs": []
    },
    {
      "cell_type": "markdown",
      "metadata": {
        "id": "VNmMrA87OB5T"
      },
      "source": [
        "#### **7. Generate random indices ranges from 1 to number of rows of data:**\n",
        "Use `np.random.permutation(row)` to generate random indices and store in randidx."
      ]
    },
    {
      "cell_type": "code",
      "metadata": {
        "id": "cX65xl43O7uC"
      },
      "source": [
        "# Write appropriate code"
      ],
      "execution_count": null,
      "outputs": []
    },
    {
      "cell_type": "markdown",
      "metadata": {
        "id": "Tm7TwqRBQEdW"
      },
      "source": [
        "#### **8. Copy the data from first k (random) indices from data:**\n",
        "Use first k indices from randomly generated indices to get the  specific data from `data` and make these specific data as new centroids."
      ]
    },
    {
      "cell_type": "code",
      "metadata": {
        "id": "6IwCZXh-RG-Y"
      },
      "source": [
        "# Write appropriate code"
      ],
      "execution_count": null,
      "outputs": []
    },
    {
      "cell_type": "markdown",
      "metadata": {
        "id": "zwTXKAjpSG74"
      },
      "source": [
        "#### **9. Create empty array named group:**\n",
        "Create a empty array named group to keep the group number that corresponds to each datapoint."
      ]
    },
    {
      "cell_type": "code",
      "metadata": {
        "id": "CXUcz15CTVgO"
      },
      "source": [
        "# Write appropriate code"
      ],
      "execution_count": null,
      "outputs": []
    },
    {
      "cell_type": "markdown",
      "metadata": {
        "id": "R_Hyr6Z8o3Ma"
      },
      "source": [
        "#### **10. Calculate distance of each point from each centroid and assign the point to a specific centroid which is closest to the point:**\n",
        "\n",
        "1.   Loop over all datapoint one by one.\n",
        "2.   For each datapoint use loop to calculate distances of $i^{th}$ point $(data[i,:])$ from centroids[0], then centroids[1], and then centroids[2]\n",
        "3.   Find out which centroid is the closest to the point $data[i,:]$\n",
        "3.   Save the centroid number that is closest to the datapoint, in specific index of group. \n",
        "\n",
        "     E.g. If $i^{th}$ datapoint is closer to centroid[0] then `group[i] = 0`\n",
        "4.   Calculate the average of each group, that will be the new centroid.\n",
        "\n",
        "     *Note: You can use `pd.DataFrame(data).groupby(by=group)` to get k distinct group and then take average using `.mean()`. You will get an dataframe object as result, to get numpy array use `.values`\n",
        "5.   Calculate distance between the old and new centroid.\n",
        "6.   Keep repeating the processes(1 to 6) until the distance is zero between old and new centroids, for all three centroid.\n"
      ]
    },
    {
      "cell_type": "code",
      "metadata": {
        "id": "7r2PvCSDWaoy"
      },
      "source": [
        "# Write appropriate code"
      ],
      "execution_count": null,
      "outputs": []
    },
    {
      "cell_type": "markdown",
      "metadata": {
        "id": "AGXCsEihtJKK"
      },
      "source": [
        "#### **11. Plot the centroids with different marker. Say ‘d’ for diamond:**\n",
        "Use different marker by simply passing an extra parameter to `plt.scatter()` function. E.g. `plt.scatter(--, --, marker='d')`"
      ]
    },
    {
      "cell_type": "code",
      "metadata": {
        "id": "RxQd6xTUnTpx"
      },
      "source": [
        "# Write appropriate code"
      ],
      "execution_count": null,
      "outputs": []
    }
  ]
}